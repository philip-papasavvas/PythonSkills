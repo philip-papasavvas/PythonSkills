{
 "cells": [
  {
   "cell_type": "markdown",
   "id": "pretty-translation",
   "metadata": {
    "toc": true
   },
   "source": [
    "<h1>Table of Contents<span class=\"tocSkip\"></span></h1>\n",
    "<div class=\"toc\"><ul class=\"toc-item\"><li><span><a href=\"#Example---Cinema-Simulation\" data-toc-modified-id=\"Example---Cinema-Simulation-1\">Example - Cinema Simulation</a></span><ul class=\"toc-item\"><li><ul class=\"toc-item\"><li><span><a href=\"#Define-the-problem\" data-toc-modified-id=\"Define-the-problem-1.0.1\">Define the problem</a></span></li><li><span><a href=\"#Brainstorm-the-algorithm\" data-toc-modified-id=\"Brainstorm-the-algorithm-1.0.2\">Brainstorm the algorithm</a></span></li><li><span><a href=\"#Define-libraries\" data-toc-modified-id=\"Define-libraries-1.0.3\">Define libraries</a></span></li><li><span><a href=\"#Code:-class-definition\" data-toc-modified-id=\"Code:-class-definition-1.0.4\">Code: class definition</a></span></li><li><span><a href=\"#Define-the-function\" data-toc-modified-id=\"Define-the-function-1.0.5\">Define the function</a></span></li></ul></li></ul></li></ul></div>"
   ]
  },
  {
   "cell_type": "markdown",
   "id": "metric-radiation",
   "metadata": {},
   "source": [
    "# Example - Cinema Simulation\n",
    "Simulating Real-World Processes in Python with SimPy\n",
    "Work through another example of using SimPy from [realpython.com](https://realpython.com/simpy-simulating-with-python/)\n",
    "\n",
    "### Define the problem\n",
    "The first step of running a simulation is to choose to process a model. \n",
    "In this example, we will imagine we are consulting for a small cinema chain, who have bad reviews due to long waiting times. The company has done some research, and found out that the average customer is willing to wait for at most **10 minutes** between arriving at the venue, and wanting to be sat down. \n",
    "\n",
    "Therefore, the problem has been formulated as helping to **get wait times below 10 minutes**.\n",
    "\n",
    "\n",
    "### Brainstorm the algorithm\n",
    "Before approaching the problem from a coding perspective, first work out how the process will work in real life. This will ensure that the code is an accurate reflection of what happens in real life. First, list the possible steps someone who visits the cinema would face.\n",
    "\n",
    "Steps on entering a cinema:\n",
    "1. **Arrive** at venue\n",
    "2. **Queue** to buy ticket\n",
    "3. **Buy** ticket\n",
    "4. **Queue** to get ticket checked \n",
    "5. **Get** ticket checked\n",
    "6. Decided whether to get drinks/food:\n",
    "    - If yes, **purchase drinks/food**\n",
    "    - If no, go to the last step\n",
    "7. **Go** directly to the seat\n",
    "\n",
    "Now we have defined the steps above, we can see which parts of the process can be controlled by the cinema chain itself. An example would be how long a customer waits before buying their ticket or drinks/food, and this can be controlled by the number of staff serving these customers.\n",
    "\n",
    "There are parts of the process that cannot be controlled, such as when the customers are arriving at the venue, or in what volume they will arrive. Since we cannot accurately guess this number, this parameter will have to be filled with available data to determine an appropriate arrival time.\n"
   ]
  },
  {
   "cell_type": "markdown",
   "id": "substantial-device",
   "metadata": {},
   "source": [
    "### Define libraries"
   ]
  },
  {
   "cell_type": "code",
   "execution_count": 5,
   "id": "personalized-estate",
   "metadata": {},
   "outputs": [
    {
     "name": "stdout",
     "output_type": "stream",
     "text": [
      "4.0.1\n"
     ]
    }
   ],
   "source": [
    "import random\n",
    "import statistics\n",
    "\n",
    "import simpy\n",
    "print(simpy.__version__)"
   ]
  },
  {
   "cell_type": "markdown",
   "id": "indirect-juvenile",
   "metadata": {},
   "source": [
    "The goal is to find the optimal number of employees giving an average wait time of **less than 10 minutes**. To define and solve this problem, we will collect a list of waiting times for each customer, from when they enter the venue to when they sit down."
   ]
  },
  {
   "cell_type": "code",
   "execution_count": 7,
   "id": "electronic-intention",
   "metadata": {},
   "outputs": [],
   "source": [
    "waiting_times = []"
   ]
  },
  {
   "cell_type": "markdown",
   "id": "sunset-cement",
   "metadata": {},
   "source": [
    "### Code: class definition"
   ]
  },
  {
   "cell_type": "markdown",
   "id": "referenced-debate",
   "metadata": {},
   "source": [
    "Build the blueprint for the system, the environment in which the events will happen, such as people moving from one place to another. The environment is the name of the class."
   ]
  },
  {
   "cell_type": "code",
   "execution_count": 8,
   "id": "interracial-console",
   "metadata": {},
   "outputs": [],
   "source": [
    "class Cinema(object):\n",
    "    def __init__(self, env):\n",
    "        self.env = env"
   ]
  },
  {
   "cell_type": "markdown",
   "id": "technical-overview",
   "metadata": {},
   "source": [
    "Consider what might be in the Cinema to add to the simulation. As outlined in the steps above, there will be:\n",
    "    - staff to sell tickets/refreshments (drinks/food)\n",
    "    - staff can sell the above items\n",
    "    \n",
    "Therefore, from the cinema's perspective, the staff are a **resource** who assist the customers in **purchasing items**.\n",
    "Therefore, we frame the problem as how does the waiting time change depending on the number of customers in each simulation?\n",
    "\n",
    "So, the next variable to declare in the class is the `num_staff`, which is vital to the results of waiting time.\n"
   ]
  },
  {
   "cell_type": "code",
   "execution_count": 9,
   "id": "confirmed-compression",
   "metadata": {},
   "outputs": [],
   "source": [
    "class Cinema(object):\n",
    "    def __init__(self, env, num_staff):\n",
    "        self.env = env\n",
    "        self.staff = simpy.Resource(env, num_staff)"
   ]
  },
  {
   "cell_type": "markdown",
   "id": "monthly-strengthening",
   "metadata": {},
   "source": [
    "We know that purchasing a ticket is going to take a certain amount of time, so either use historical data for this, or provide an estimate for this process time. This time can be a range, since the size of the party could be different. In this example we will estimate that it takes between 1 and 3 minutes to buy a ticket.\n",
    "\n",
    "We will use the `timeout` method from SimPy to mimic this behaviour."
   ]
  },
  {
   "cell_type": "code",
   "execution_count": 10,
   "id": "friendly-training",
   "metadata": {},
   "outputs": [],
   "source": [
    "class Cinema(object):\n",
    "    def __init__(self, env, num_staff):\n",
    "        self.env = env\n",
    "        self.staff = simpy.Resource(env, num_staff)\n",
    "        \n",
    "    # customer must be passed as a parameter, since they cause the event to occur.\n",
    "    def purchase_ticket(self, customer):\n",
    "        yield self.env.timeout(random.randint(1,3))"
   ]
  },
  {
   "cell_type": "markdown",
   "id": "confidential-portal",
   "metadata": {},
   "source": [
    "Declare two more resources:\n",
    "    - Staff to check tickets\n",
    "    - Staff to serve food/drinks\n",
    "These two tasks take a different amount of time, so as before either use historical data, or provide a best guess."
   ]
  },
  {
   "cell_type": "code",
   "execution_count": 14,
   "id": "verbal-residence",
   "metadata": {},
   "outputs": [],
   "source": [
    "class Cinema(object):\n",
    "    def __init__(self, env, num_staff, num_checkers, num_servers):\n",
    "        self.env = env\n",
    "        self.staff = simpy.Resource(env, num_staff)\n",
    "        # ticket checker\n",
    "        self.checker = simpy.Resource(env, num_checkers)\n",
    "        # food/drinks server\n",
    "        self.server = simply.Resource(env, num_servers)\n",
    "        \n",
    "    # customer must be passed as a parameter, since they cause the event to occur.\n",
    "    def purchase_ticket(self, customer):\n",
    "        # process of a customer buying a ticket\n",
    "        yield self.env.timeout(random.randint(1, 3))\n",
    "        \n",
    "    def check_ticket(self, customer):\n",
    "        # process of a member of staff checking a ticket \n",
    "        # this is defined as 3 seconds, don't need a random number\n",
    "        yield self.env.timeout(3/60) \n",
    "        \n",
    "    def sell_food(self, customer):\n",
    "        # process of staff selling food\n",
    "        yield self.env.timeout(random.randint(1, 5))"
   ]
  },
  {
   "cell_type": "markdown",
   "id": "billion-throw",
   "metadata": {},
   "source": [
    "### Define the function\n",
    "The environment has been setup by the class above, with the resources and processes defined. All that is left is for a customer to enter the process.\n",
    "\n",
    "In the process terms, they will:\n",
    "- arrive at the venue\n",
    "- request a resource\n",
    "- wait for the process to complete\n",
    "- leave\n",
    "\n",
    "Create a function to simulate this process"
   ]
  },
  {
   "cell_type": "code",
   "execution_count": 15,
   "id": "animated-exposure",
   "metadata": {},
   "outputs": [],
   "source": [
    "def go_to_cinema(env, customer, cinema):\n",
    "    # customer will be controlled by the environment, so passed into first param\n",
    "    # varaible customer tracks each person moving through the system\n",
    "    # final parameter allows us to access the processes defined in the Cinema class\n",
    "    # define the arrival time as a store to see when the customers arrive\n",
    "    arrival_time = env.now"
   ]
  },
  {
   "cell_type": "markdown",
   "id": "premium-romantic",
   "metadata": {},
   "source": [
    "Each of the processes from the Cinema should have corresponding requests in `go_to_cinema()`.\n",
    "The first process in the class is `purchase_ticket()`, using a `staff` resource."
   ]
  },
  {
   "cell_type": "markdown",
   "id": "characteristic-leadership",
   "metadata": {},
   "source": [
    "Below is a summary of the processes in the `cinema`, and the request made in the `go_to_cinema` method."
   ]
  },
  {
   "cell_type": "markdown",
   "id": "academic-chick",
   "metadata": {},
   "source": [
    "| Process in cinema        | Request in `go_to_cinema()`|\n",
    "| ------------- |:-------------:| \n",
    "| `purchase_ticket()`      | request a member of `staff` | \n",
    "| `check_ticket()`      | request a `checker`| \n",
    "| `sell_food()` | request a `server`| "
   ]
  },
  {
   "cell_type": "markdown",
   "id": "stretch-bonus",
   "metadata": {},
   "source": [
    "A member of `staff` is a shared resource in the process, so a customer can use the same member of staff, but this member of staff can only help one customer at a time. This needs to be accounted for."
   ]
  },
  {
   "cell_type": "code",
   "execution_count": 18,
   "id": "german-little",
   "metadata": {},
   "outputs": [],
   "source": [
    "def go_to_cinema(env, customer, cinema):\n",
    "    # customer will be controlled by the environment, so passed into first param\n",
    "    # varaible customer tracks each person moving through the system\n",
    "    # final parameter allows us to access the processes defined in the Cinema class\n",
    "    # define the arrival time as a store to see when the customers arrive\n",
    "    arrival_time = env.now\n",
    "    \n",
    "    with cinema.staff.request() as request:\n",
    "        yield request\n",
    "        yield env.process(cinema.purchase_ticket(customer))"
   ]
  },
  {
   "cell_type": "markdown",
   "id": "finite-declaration",
   "metadata": {},
   "source": [
    "For the above, we see:\n",
    "- `cinema.staff.request()`: the customer causes a request to call a member of staff, using a `staff` resource\n",
    "- `yield request`: customer waits for a `staff` to become available if all are currently in use\n",
    "- `yield env.process()`: the customer uses an available member of `staff` to complete the given process, in this case to purchase the ticket using the class method `cinema.purchase_ticket()`."
   ]
  },
  {
   "cell_type": "markdown",
   "id": "pharmaceutical-practice",
   "metadata": {},
   "source": [
    "Once the member of staff is then freed up, the `customer` will spend time buying their ticket. \n",
    "`env.process()` tells the simulation to go to the `Cinema` instance and run the `purchase_ticket()` process on the `customer`.\n",
    "The customer will repeat the **request, use, release** cycle to get their ticket checked."
   ]
  },
  {
   "cell_type": "code",
   "execution_count": 20,
   "id": "speaking-factory",
   "metadata": {},
   "outputs": [],
   "source": [
    "def go_to_cinema(env, customer, cinema):\n",
    "    # customer will be controlled by the environment, so passed into first param\n",
    "    # varaible customer tracks each person moving through the system\n",
    "    # final parameter allows us to access the processes defined in the Cinema class\n",
    "    # define the arrival time as a store to see when the customers arrive\n",
    "    arrival_time = env.now\n",
    "    \n",
    "    with cinema.staff.request() as request:\n",
    "        yield request\n",
    "        yield env.process(cinema.purchase_ticket(customer))\n",
    "        \n",
    "    with cinema.checker.request() as request:\n",
    "        yield request\n",
    "        yield env.process(cinema.check_ticket(customer))"
   ]
  },
  {
   "cell_type": "markdown",
   "id": "conceptual-burden",
   "metadata": {},
   "source": [
    "The next part is to add the optional step of buying food/drinks, which is quite random, and we can add the randomness to the function"
   ]
  },
  {
   "cell_type": "code",
   "execution_count": null,
   "id": "proved-invasion",
   "metadata": {},
   "outputs": [],
   "source": []
  }
 ],
 "metadata": {
  "kernelspec": {
   "display_name": "Python 3",
   "language": "python",
   "name": "python3"
  },
  "language_info": {
   "codemirror_mode": {
    "name": "ipython",
    "version": 3
   },
   "file_extension": ".py",
   "mimetype": "text/x-python",
   "name": "python",
   "nbconvert_exporter": "python",
   "pygments_lexer": "ipython3",
   "version": "3.7.3"
  },
  "toc": {
   "base_numbering": 1,
   "nav_menu": {},
   "number_sections": false,
   "sideBar": true,
   "skip_h1_title": false,
   "title_cell": "Table of Contents",
   "title_sidebar": "Contents",
   "toc_cell": true,
   "toc_position": {
    "height": "calc(100% - 180px)",
    "left": "10px",
    "top": "150px",
    "width": "165px"
   },
   "toc_section_display": true,
   "toc_window_display": true
  },
  "varInspector": {
   "cols": {
    "lenName": 16,
    "lenType": 16,
    "lenVar": 40
   },
   "kernels_config": {
    "python": {
     "delete_cmd_postfix": "",
     "delete_cmd_prefix": "del ",
     "library": "var_list.py",
     "varRefreshCmd": "print(var_dic_list())"
    },
    "r": {
     "delete_cmd_postfix": ") ",
     "delete_cmd_prefix": "rm(",
     "library": "var_list.r",
     "varRefreshCmd": "cat(var_dic_list()) "
    }
   },
   "types_to_exclude": [
    "module",
    "function",
    "builtin_function_or_method",
    "instance",
    "_Feature"
   ],
   "window_display": false
  }
 },
 "nbformat": 4,
 "nbformat_minor": 5
}
