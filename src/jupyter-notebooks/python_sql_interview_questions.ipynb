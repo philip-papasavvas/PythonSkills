{
 "cells": [
  {
   "cell_type": "markdown",
   "id": "integral-blend",
   "metadata": {
    "toc": true
   },
   "source": [
    "<h1>Table of Contents<span class=\"tocSkip\"></span></h1>\n",
    "<div class=\"toc\"><ul class=\"toc-item\"><li><span><a href=\"#Python\" data-toc-modified-id=\"Python-1\">Python</a></span></li><li><span><a href=\"#SQL\" data-toc-modified-id=\"SQL-2\">SQL</a></span><ul class=\"toc-item\"><li><ul class=\"toc-item\"><li><span><a href=\"#What-is-the-difference-between-SQL-and-MySQL?\" data-toc-modified-id=\"What-is-the-difference-between-SQL-and-MySQL?-2.0.1\">What is the difference between SQL and MySQL?</a></span></li><li><span><a href=\"#What's-the-difference-between-a-table,-field-and-a-record?\" data-toc-modified-id=\"What's-the-difference-between-a-table,-field-and-a-record?-2.0.2\">What's the difference between a table, field and a record?</a></span></li><li><span><a href=\"#What-is-a-JOIN-clause?-Explain-the-different-types.\" data-toc-modified-id=\"What-is-a-JOIN-clause?-Explain-the-different-types.-2.0.3\">What is a JOIN clause? Explain the different types.</a></span></li><li><span><a href=\"#What's-the-difference-between-CHAR-and-VARCHAR2?\" data-toc-modified-id=\"What's-the-difference-between-CHAR-and-VARCHAR2?-2.0.4\">What's the difference between CHAR and VARCHAR2?</a></span></li><li><span><a href=\"#What-are-constraints?\" data-toc-modified-id=\"What-are-constraints?-2.0.5\">What are constraints?</a></span></li><li><span><a href=\"#What-is-the-difference-between-DELETE-and-TRUNCATE?\" data-toc-modified-id=\"What-is-the-difference-between-DELETE-and-TRUNCATE?-2.0.6\">What is the difference between DELETE and TRUNCATE?</a></span></li></ul></li><li><span><a href=\"#PRIMARY,-UNIQUE-&amp;-FOREIGN-KEYS\" data-toc-modified-id=\"PRIMARY,-UNIQUE-&amp;-FOREIGN-KEYS-2.1\">PRIMARY, UNIQUE &amp; FOREIGN KEYS</a></span><ul class=\"toc-item\"><li><span><a href=\"#What-is-a-PRIMARY-KEY?\" data-toc-modified-id=\"What-is-a-PRIMARY-KEY?-2.1.1\">What is a PRIMARY KEY?</a></span></li><li><span><a href=\"#What-is-a-UNIQUE-key?\" data-toc-modified-id=\"What-is-a-UNIQUE-key?-2.1.2\">What is a UNIQUE key?</a></span></li><li><span><a href=\"#What-is-a-FOREIGN-key?\" data-toc-modified-id=\"What-is-a-FOREIGN-key?-2.1.3\">What is a FOREIGN key?</a></span></li><li><span><a href=\"#What's-the-difference-between-a-PRIMARY-KEY-and-a-UNIQUE-KEY?\" data-toc-modified-id=\"What's-the-difference-between-a-PRIMARY-KEY-and-a-UNIQUE-KEY?-2.1.4\">What's the difference between a PRIMARY KEY and a UNIQUE KEY?</a></span></li></ul></li></ul></li></ul></div>"
   ]
  },
  {
   "cell_type": "markdown",
   "id": "infrared-hebrew",
   "metadata": {},
   "source": [
    "A collection of interview questions organised into two categories:\n",
    "- Python\n",
    "- SQL"
   ]
  },
  {
   "cell_type": "markdown",
   "id": "neutral-brook",
   "metadata": {},
   "source": [
    "## Python"
   ]
  },
  {
   "cell_type": "markdown",
   "id": "seven-office",
   "metadata": {},
   "source": [
    "## SQL"
   ]
  },
  {
   "cell_type": "markdown",
   "id": "external-draft",
   "metadata": {},
   "source": [
    "#### What is the difference between SQL and MySQL?\n",
    "- SQL is a querying language used for accessing data in a database\n",
    "- MySQL is a database management system. This is a software allowing the user, applications, and the database to capture and analyse data."
   ]
  },
  {
   "cell_type": "markdown",
   "id": "faced-looking",
   "metadata": {},
   "source": [
    "#### What's the difference between a table, field and a record?\n",
    "- A table is a collection of data organised into rows and columns\n",
    "- A field is the columns of the table\n",
    "- A record is an individual entry in a table"
   ]
  },
  {
   "cell_type": "markdown",
   "id": "critical-plumbing",
   "metadata": {},
   "source": [
    "#### What is a JOIN clause? Explain the different types.\n",
    "\n",
    "A JOIN clause combines rows from two or more tables, based on a related column between them.\n",
    "\n",
    "![](https://www.dofactory.com/img/sql/sql-joins.png)"
   ]
  },
  {
   "cell_type": "markdown",
   "id": "concrete-youth",
   "metadata": {},
   "source": [
    "As shown above:\n",
    "- **INNER JOIN**: return the rows from multiple tables where the values in the common column overlap\n",
    "- **OUTER JOIN**: return all records in both table if there are any matches\n",
    "- **LEFT JOIN**: return all the rows from the left table, and entries from the right table matching the entries in the shared column\n",
    "- **RIGHT JOIN**: return all rows from the right table, and only matching rows from the left table."
   ]
  },
  {
   "cell_type": "markdown",
   "id": "considered-inspection",
   "metadata": {},
   "source": [
    "#### What's the difference between CHAR and VARCHAR2?\n",
    "- VARCHAR2 is for character strings of variable length\n",
    "- CHAR is for strings of a fixed length only, cannot store a value if it's of a different length"
   ]
  },
  {
   "cell_type": "markdown",
   "id": "institutional-basket",
   "metadata": {},
   "source": [
    "#### What are constraints?\n",
    "- Constraints are used to specify limits on the data type of a table, specified when creating/altering the table.\n",
    "- For example: NOT NULL, CHECK, PRIMARY KEY"
   ]
  },
  {
   "cell_type": "markdown",
   "id": "occasional-basis",
   "metadata": {},
   "source": [
    "#### What is the difference between DELETE and TRUNCATE?\n",
    "- DELETE is used for a single row in a table, and you can roll back data\n",
    "- TRUNCATE deletes all rows from a table, and cannot be rolled back"
   ]
  },
  {
   "cell_type": "markdown",
   "id": "wrapped-brunei",
   "metadata": {},
   "source": [
    "### PRIMARY, UNIQUE & FOREIGN KEYS"
   ]
  },
  {
   "cell_type": "markdown",
   "id": "exact-rhythm",
   "metadata": {},
   "source": [
    "#### What is a PRIMARY KEY?\n",
    "- This is a column or set of columns identifying each row in the table uniquely\n",
    "- It isn't allowed to take a null value\n",
    "- There is only one primary key in a table"
   ]
  },
  {
   "cell_type": "markdown",
   "id": "specific-packet",
   "metadata": {},
   "source": [
    "#### What is a UNIQUE key?\n",
    "- This is a key that uniquely identifies a single row in a table.\n",
    "- Multiple values are allowed"
   ]
  },
  {
   "cell_type": "markdown",
   "id": "aboriginal-cookie",
   "metadata": {},
   "source": [
    "#### What is a FOREIGN key?\n",
    "- This enforces a link between data in two tables\n",
    "- A FOREIGN key in a child table references the PRIMARY KEY in a parent table"
   ]
  },
  {
   "cell_type": "markdown",
   "id": "gothic-progressive",
   "metadata": {},
   "source": [
    "#### What's the difference between a PRIMARY KEY and a UNIQUE KEY?\n",
    "- Both can uniquely idenitfy a row in a table\n",
    "- UNIQUE KEY can be null, and only one null values in a table\n",
    "- PRIMARY KEY cannot be null\n",
    "- PRIMARY KEY can be a combination of more than one unique key in the same table\n",
    "- There can only be one PRIMARY KEY per table\n",
    "- There can be more than one UNIQUE KEY per table"
   ]
  }
 ],
 "metadata": {
  "kernelspec": {
   "display_name": "Python 3",
   "language": "python",
   "name": "python3"
  },
  "language_info": {
   "codemirror_mode": {
    "name": "ipython",
    "version": 3
   },
   "file_extension": ".py",
   "mimetype": "text/x-python",
   "name": "python",
   "nbconvert_exporter": "python",
   "pygments_lexer": "ipython3",
   "version": "3.7.3"
  },
  "toc": {
   "base_numbering": 1,
   "nav_menu": {},
   "number_sections": false,
   "sideBar": true,
   "skip_h1_title": false,
   "title_cell": "Table of Contents",
   "title_sidebar": "Contents",
   "toc_cell": true,
   "toc_position": {},
   "toc_section_display": true,
   "toc_window_display": true
  },
  "varInspector": {
   "cols": {
    "lenName": 16,
    "lenType": 16,
    "lenVar": 40
   },
   "kernels_config": {
    "python": {
     "delete_cmd_postfix": "",
     "delete_cmd_prefix": "del ",
     "library": "var_list.py",
     "varRefreshCmd": "print(var_dic_list())"
    },
    "r": {
     "delete_cmd_postfix": ") ",
     "delete_cmd_prefix": "rm(",
     "library": "var_list.r",
     "varRefreshCmd": "cat(var_dic_list()) "
    }
   },
   "types_to_exclude": [
    "module",
    "function",
    "builtin_function_or_method",
    "instance",
    "_Feature"
   ],
   "window_display": false
  }
 },
 "nbformat": 4,
 "nbformat_minor": 5
}
