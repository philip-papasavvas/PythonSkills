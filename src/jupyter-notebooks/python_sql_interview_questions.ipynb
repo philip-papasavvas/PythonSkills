{
 "cells": [
  {
   "cell_type": "markdown",
   "id": "integral-blend",
   "metadata": {
    "toc": true
   },
   "source": [
    "<h1>Table of Contents<span class=\"tocSkip\"></span></h1>\n",
    "<div class=\"toc\"><ul class=\"toc-item\"><li><span><a href=\"#Python\" data-toc-modified-id=\"Python-1\">Python</a></span><ul class=\"toc-item\"><li><ul class=\"toc-item\"><li><span><a href=\"#Are-tuples-immutable?\" data-toc-modified-id=\"Are-tuples-immutable?-1.0.1\">Are tuples immutable?</a></span></li><li><span><a href=\"#Are-variables-and-objects-the-same-in-Python?\" data-toc-modified-id=\"Are-variables-and-objects-the-same-in-Python?-1.0.2\">Are variables and objects the same in Python?</a></span></li><li><span><a href=\"#Are-variables-Typed?\" data-toc-modified-id=\"Are-variables-Typed?-1.0.3\">Are variables Typed?</a></span></li><li><span><a href=\"#What's-the-difference-between-a-list-and-a-tuple-in-Python?\" data-toc-modified-id=\"What's-the-difference-between-a-list-and-a-tuple-in-Python?-1.0.4\">What's the difference between a list and a tuple in Python?</a></span></li><li><span><a href=\"#What's-the-difference-between-Python-and-other-languages?\" data-toc-modified-id=\"What's-the-difference-between-Python-and-other-languages?-1.0.5\">What's the difference between Python and other languages?</a></span></li><li><span><a href=\"#What-is-a-PYTHONPATH?\" data-toc-modified-id=\"What-is-a-PYTHONPATH?-1.0.6\">What is a PYTHONPATH?</a></span></li><li><span><a href=\"#What-are-modules?\" data-toc-modified-id=\"What-are-modules?-1.0.7\">What are modules?</a></span></li><li><span><a href=\"#What's-the-difference-between-local-and-global-variables-in-Python?\" data-toc-modified-id=\"What's-the-difference-between-local-and-global-variables-in-Python?-1.0.8\">What's the difference between local and global variables in Python?</a></span></li><li><span><a href=\"#What-is-type-conversion?\" data-toc-modified-id=\"What-is-type-conversion?-1.0.9\">What is type conversion?</a></span></li><li><span><a href=\"#What-is-the-difference-between-an-array-and-lists?\" data-toc-modified-id=\"What-is-the-difference-between-an-array-and-lists?-1.0.10\">What is the difference between an array and lists?</a></span></li><li><span><a href=\"#What-is-a-function?\" data-toc-modified-id=\"What-is-a-function?-1.0.11\">What is a function?</a></span></li><li><span><a href=\"#What-is-the-meaning-of-__-init-__-?\" data-toc-modified-id=\"What-is-the-meaning-of-__-init-__-?-1.0.12\">What is the meaning of __ init __ ?</a></span></li><li><span><a href=\"#What-is-self-?\" data-toc-modified-id=\"What-is-self-?-1.0.13\">What is self ?</a></span></li><li><span><a href=\"#What-is-a-lambda-function?\" data-toc-modified-id=\"What-is-a-lambda-function?-1.0.14\">What is a lambda function?</a></span></li><li><span><a href=\"#What-are-generators?\" data-toc-modified-id=\"What-are-generators?-1.0.15\">What are generators?</a></span></li><li><span><a href=\"#What-are-iterators?\" data-toc-modified-id=\"What-are-iterators?-1.0.16\">What are iterators?</a></span></li><li><span><a href=\"#Why-use-yield?\" data-toc-modified-id=\"Why-use-yield?-1.0.17\">Why use yield?</a></span></li></ul></li></ul></li><li><span><a href=\"#SQL\" data-toc-modified-id=\"SQL-2\">SQL</a></span><ul class=\"toc-item\"><li><ul class=\"toc-item\"><li><span><a href=\"#What-is-the-difference-between-SQL-and-MySQL?\" data-toc-modified-id=\"What-is-the-difference-between-SQL-and-MySQL?-2.0.1\">What is the difference between SQL and MySQL?</a></span></li><li><span><a href=\"#What's-the-difference-between-a-table,-field-and-a-record?\" data-toc-modified-id=\"What's-the-difference-between-a-table,-field-and-a-record?-2.0.2\">What's the difference between a table, field and a record?</a></span></li><li><span><a href=\"#What-is-a-JOIN-clause?-Explain-the-different-types.\" data-toc-modified-id=\"What-is-a-JOIN-clause?-Explain-the-different-types.-2.0.3\">What is a JOIN clause? Explain the different types.</a></span></li><li><span><a href=\"#What's-the-difference-between-CHAR-and-VARCHAR2?\" data-toc-modified-id=\"What's-the-difference-between-CHAR-and-VARCHAR2?-2.0.4\">What's the difference between CHAR and VARCHAR2?</a></span></li><li><span><a href=\"#What-are-constraints?\" data-toc-modified-id=\"What-are-constraints?-2.0.5\">What are constraints?</a></span></li><li><span><a href=\"#What-is-the-difference-between-DELETE-and-TRUNCATE?\" data-toc-modified-id=\"What-is-the-difference-between-DELETE-and-TRUNCATE?-2.0.6\">What is the difference between DELETE and TRUNCATE?</a></span></li></ul></li><li><span><a href=\"#PRIMARY,-UNIQUE-&amp;-FOREIGN-KEYS\" data-toc-modified-id=\"PRIMARY,-UNIQUE-&amp;-FOREIGN-KEYS-2.1\">PRIMARY, UNIQUE &amp; FOREIGN KEYS</a></span><ul class=\"toc-item\"><li><span><a href=\"#What-is-a-PRIMARY-KEY?\" data-toc-modified-id=\"What-is-a-PRIMARY-KEY?-2.1.1\">What is a PRIMARY KEY?</a></span></li><li><span><a href=\"#What-is-a-UNIQUE-key?\" data-toc-modified-id=\"What-is-a-UNIQUE-key?-2.1.2\">What is a UNIQUE key?</a></span></li><li><span><a href=\"#What-is-a-FOREIGN-key?\" data-toc-modified-id=\"What-is-a-FOREIGN-key?-2.1.3\">What is a FOREIGN key?</a></span></li><li><span><a href=\"#What's-the-difference-between-a-PRIMARY-KEY-and-a-UNIQUE-KEY?\" data-toc-modified-id=\"What's-the-difference-between-a-PRIMARY-KEY-and-a-UNIQUE-KEY?-2.1.4\">What's the difference between a PRIMARY KEY and a UNIQUE KEY?</a></span></li></ul></li><li><span><a href=\"#General\" data-toc-modified-id=\"General-2.2\">General</a></span></li></ul></li></ul></div>"
   ]
  },
  {
   "cell_type": "markdown",
   "id": "infrared-hebrew",
   "metadata": {},
   "source": [
    "A collection of interview questions organised into two categories:\n",
    "- Python\n",
    "- SQL"
   ]
  },
  {
   "cell_type": "markdown",
   "id": "neutral-brook",
   "metadata": {},
   "source": [
    "## Python"
   ]
  },
  {
   "cell_type": "markdown",
   "id": "southern-nursery",
   "metadata": {},
   "source": [
    "#### Are tuples immutable?\n",
    "- Immutable means they cannot be changed, after being created in the memory\n",
    "- Mutable objects are ones that can be changed after they've been created in the memory"
   ]
  },
  {
   "cell_type": "code",
   "execution_count": 7,
   "id": "nominated-meditation",
   "metadata": {},
   "outputs": [
    {
     "name": "stdout",
     "output_type": "stream",
     "text": [
      "('a', 'b')\n",
      "b\n"
     ]
    }
   ],
   "source": [
    "tuple = ('a', 'b')\n",
    "print(tuple)\n",
    "print(tuple[1])"
   ]
  },
  {
   "cell_type": "code",
   "execution_count": 4,
   "id": "jewish-dylan",
   "metadata": {},
   "outputs": [
    {
     "ename": "TypeError",
     "evalue": "'tuple' object does not support item assignment",
     "output_type": "error",
     "traceback": [
      "\u001b[0;31m---------------------------------------------------------------------------\u001b[0m",
      "\u001b[0;31mTypeError\u001b[0m                                 Traceback (most recent call last)",
      "\u001b[0;32m<ipython-input-4-fc98da3d9bd3>\u001b[0m in \u001b[0;36m<module>\u001b[0;34m\u001b[0m\n\u001b[0;32m----> 1\u001b[0;31m \u001b[0mtuple\u001b[0m\u001b[0;34m[\u001b[0m\u001b[0;36m1\u001b[0m\u001b[0;34m]\u001b[0m \u001b[0;34m=\u001b[0m \u001b[0;34m'c'\u001b[0m\u001b[0;34m\u001b[0m\u001b[0;34m\u001b[0m\u001b[0m\n\u001b[0m",
      "\u001b[0;31mTypeError\u001b[0m: 'tuple' object does not support item assignment"
     ]
    }
   ],
   "source": [
    "tuple[1] = 'c'"
   ]
  },
  {
   "cell_type": "code",
   "execution_count": 9,
   "id": "recent-baghdad",
   "metadata": {},
   "outputs": [
    {
     "name": "stdout",
     "output_type": "stream",
     "text": [
      "('a', {'b': 'changed_char'})\n"
     ]
    }
   ],
   "source": [
    "tuple_two = ('a', {'b': 'bee'})\n",
    "tuple_two[1]['b'] = 'changed_char'\n",
    "\n",
    "print(tuple_two)"
   ]
  },
  {
   "cell_type": "markdown",
   "id": "nonprofit-steel",
   "metadata": {},
   "source": [
    "Tuple objects are data containers, so if a tuple has an object in it such as a list or a dict, then we can change the data inside the list or dict without changing the tuple (where it's stored in memory itself).\n",
    "\n",
    "So (as we will see below), updating the data in the dictionary above has no change on the object stored in memory.\n",
    "\n",
    "So, tuples are **relatively immutable** if they hold mutable objects (dicts, list) and we can change their values.\n",
    "\n",
    "However, we cannot change the tuples' underlying objects that they hold, as they are immutable by definition, and always contain the same objects no matter whether its possible to change contained data."
   ]
  },
  {
   "cell_type": "markdown",
   "id": "alleged-blake",
   "metadata": {},
   "source": [
    "#### Are variables and objects the same in Python?\n",
    "- In python everything is an object, including data type instances, modules, functions and classes\n",
    "- Variables can be viewed as labels associated with specific objects defined\n",
    "- Objects are data stored in memory when created"
   ]
  },
  {
   "cell_type": "code",
   "execution_count": 14,
   "id": "cultural-brisbane",
   "metadata": {},
   "outputs": [
    {
     "name": "stdout",
     "output_type": "stream",
     "text": [
      "140212064906832\n",
      "140212032327952\n"
     ]
    }
   ],
   "source": [
    "a = 1000\n",
    "print(id(a)) # memory address\n",
    "a = 'word'\n",
    "print(id(a)) # new memory address"
   ]
  },
  {
   "cell_type": "markdown",
   "id": "enhanced-drawing",
   "metadata": {},
   "source": [
    "So, when **a** is originally created, it has an address in memory. Then it is changed and has a different memory address.\n",
    "\n",
    "The memory addresses for these two cases are distinct, and reference the distinct underlying objects in memory.\n",
    "\n",
    "So, variables and objects are **not the same** since objects are data saved in memory. A new variable in this case is a label referencing a value."
   ]
  },
  {
   "cell_type": "markdown",
   "id": "israeli-oasis",
   "metadata": {},
   "source": [
    "#### Are variables Typed?\n",
    "- Not as they are in other languages, in Python both are valid:\n",
    "    - a=3\n",
    "    - a='three'\n",
    "- Python is dynamically typed\n",
    "- One doesn't have to declare the type of variable when declaring the variable\n",
    "- Python variables have types, determined by the values they're bound to"
   ]
  },
  {
   "cell_type": "markdown",
   "id": "awful-nitrogen",
   "metadata": {},
   "source": [
    "#### What's the difference between a list and a tuple in Python?\n",
    "- A tuple has **( )** brackets, list **[ ]**\n",
    "- List is **mutable** and can be changed\n",
    "- Tuple is **immutable** and cannot be edited"
   ]
  },
  {
   "cell_type": "markdown",
   "id": "sorted-product",
   "metadata": {},
   "source": [
    "#### What's the difference between Python and other languages?\n",
    "- Python is dynamically typed\n",
    "- Python is an interpreted language (no need to compile code)"
   ]
  },
  {
   "cell_type": "markdown",
   "id": "specialized-coffee",
   "metadata": {},
   "source": [
    "#### What is a PYTHONPATH?\n",
    "- This is the path looked at by the intrepreter when looking for modules imported in a script."
   ]
  },
  {
   "cell_type": "markdown",
   "id": "appointed-plumbing",
   "metadata": {},
   "source": [
    "#### What are modules?\n",
    "- These are files containing Python code that can contain functions, classes or variables\n",
    "- a \".py\" file with executable code"
   ]
  },
  {
   "cell_type": "markdown",
   "id": "graduate-september",
   "metadata": {},
   "source": [
    "#### What's the difference between local and global variables in Python?\n",
    "- Variables declared outside a function or in global space are **GLOBAL VARIABLES**. Can be accessed by any fucntion in the program.\n",
    "- Any variable declared inside a function is known as a **LOCAL VARIABLE**, as it is present in local, not global space.\n"
   ]
  },
  {
   "cell_type": "markdown",
   "id": "animal-dictionary",
   "metadata": {},
   "source": [
    "#### What is type conversion?\n",
    "Conversion of data from one type to another."
   ]
  },
  {
   "cell_type": "markdown",
   "id": "substantial-boxing",
   "metadata": {},
   "source": [
    "#### What is the difference between an array and lists?\n",
    "- Arrays can only hold one data type element (more useful for arithmetic functions)\n",
    "- Lists can hold more than one data type, any data type"
   ]
  },
  {
   "cell_type": "code",
   "execution_count": 9,
   "id": "innovative-composition",
   "metadata": {},
   "outputs": [
    {
     "data": {
      "text/plain": [
       "[1, 'abc', 1.2]"
      ]
     },
     "execution_count": 9,
     "metadata": {},
     "output_type": "execute_result"
    }
   ],
   "source": [
    "import numpy\n",
    "numpy.array([['i'], [1]])\n",
    "[1, 'abc', 1.20]"
   ]
  },
  {
   "cell_type": "markdown",
   "id": "sunset-taiwan",
   "metadata": {},
   "source": [
    "#### What is a function?\n",
    "- A block of code defined using a **def** keyword, only executed when called"
   ]
  },
  {
   "cell_type": "markdown",
   "id": "organized-atlanta",
   "metadata": {},
   "source": [
    "#### What is the meaning of __ init __ ?\n",
    "- This is a method or constructor, automatically called to allocate mmeory when an object/instance of a class is created\n",
    "- All classes have an __ init __ method"
   ]
  },
  {
   "cell_type": "markdown",
   "id": "rubber-consolidation",
   "metadata": {},
   "source": [
    "#### What is self ?\n",
    "- This is an instance of an object of a class, explicitly excluded as a first parameter\n",
    "- It helps to differentiate between methods and attributes of a class and local variables\n",
    "- In the __ init __ method, **self** refers to a newly created object, whilst in other methods it refers to the object whose method is called"
   ]
  },
  {
   "cell_type": "markdown",
   "id": "raising-comedy",
   "metadata": {},
   "source": [
    "#### What is a lambda function?\n",
    "- This is an anonymous function that can have any number of parameters, but just one statement"
   ]
  },
  {
   "cell_type": "markdown",
   "id": "laden-support",
   "metadata": {},
   "source": [
    "#### What are generators?\n",
    "- These are functions that return an iterable set of items, often denoted with a **yield** statement"
   ]
  },
  {
   "cell_type": "markdown",
   "id": "polish-mountain",
   "metadata": {},
   "source": [
    "#### What are iterators?\n",
    "- These are objects that can be traversed through/iterated upon"
   ]
  },
  {
   "cell_type": "markdown",
   "id": "public-louisville",
   "metadata": {},
   "source": [
    "#### Why use yield?\n",
    "- Yield will result in a generator object\n",
    "- A generator is advantageous for large amounts of data, so using a for loop and a return object means storing the entire object being iterated through in memory\n",
    "- Whereas using a generator, return each element as needed, and then when finished, the computer can free up memory in the program\n",
    "- It is slow to do a return, but yield will take each key in turn, and won't iterate through all results\n",
    "- If you don't need to allocate a big list in memory for results, you don't have to process all results before you can start using the result"
   ]
  },
  {
   "cell_type": "markdown",
   "id": "seven-office",
   "metadata": {},
   "source": [
    "## SQL"
   ]
  },
  {
   "cell_type": "markdown",
   "id": "dress-nurse",
   "metadata": {},
   "source": [
    "#### What is the difference between SQL and MySQL?\n",
    "- SQL is a querying language used for accessing data in a database\n",
    "- MySQL is a database management system. This is a software allowing the user, applications, and the database to capture and analyse data."
   ]
  },
  {
   "cell_type": "markdown",
   "id": "changed-kernel",
   "metadata": {},
   "source": [
    "#### What's the difference between a table, field and a record?\n",
    "- A table is a collection of data organised into rows and columns\n",
    "- A field is the columns of the table\n",
    "- A record is an individual entry in a table"
   ]
  },
  {
   "cell_type": "markdown",
   "id": "solid-accused",
   "metadata": {},
   "source": [
    "#### What is a JOIN clause? Explain the different types.\n",
    "\n",
    "A JOIN clause combines rows from two or more tables, based on a related column between them.\n",
    "\n",
    "![](https://www.dofactory.com/img/sql/sql-joins.png)"
   ]
  },
  {
   "cell_type": "markdown",
   "id": "otherwise-turkish",
   "metadata": {},
   "source": [
    "As shown above:\n",
    "- **INNER JOIN**: return the rows from multiple tables where the values in the common column overlap\n",
    "- **OUTER JOIN**: return all records in both table if there are any matches\n",
    "- **LEFT JOIN**: return all the rows from the left table, and entries from the right table matching the entries in the shared column\n",
    "- **RIGHT JOIN**: return all rows from the right table, and only matching rows from the left table."
   ]
  },
  {
   "cell_type": "markdown",
   "id": "increasing-failing",
   "metadata": {},
   "source": [
    "#### What's the difference between CHAR and VARCHAR2?\n",
    "- VARCHAR2 is for character strings of variable length\n",
    "- CHAR is for strings of a fixed length only, cannot store a value if it's of a different length"
   ]
  },
  {
   "cell_type": "markdown",
   "id": "grave-cleanup",
   "metadata": {},
   "source": [
    "#### What are constraints?\n",
    "- Constraints are used to specify limits on the data type of a table, specified when creating/altering the table.\n",
    "- For example: NOT NULL, CHECK, PRIMARY KEY"
   ]
  },
  {
   "cell_type": "markdown",
   "id": "lasting-assembly",
   "metadata": {},
   "source": [
    "#### What is the difference between DELETE and TRUNCATE?\n",
    "- DELETE is used for a single row in a table, and you can roll back data\n",
    "- TRUNCATE deletes all rows from a table, and cannot be rolled back"
   ]
  },
  {
   "cell_type": "markdown",
   "id": "dominican-honor",
   "metadata": {},
   "source": [
    "### PRIMARY, UNIQUE & FOREIGN KEYS"
   ]
  },
  {
   "cell_type": "markdown",
   "id": "architectural-duration",
   "metadata": {},
   "source": [
    "#### What is a PRIMARY KEY?\n",
    "- This is a column or set of columns identifying each row in the table uniquely\n",
    "- It isn't allowed to take a null value\n",
    "- There is only one primary key in a table"
   ]
  },
  {
   "cell_type": "markdown",
   "id": "assured-smell",
   "metadata": {},
   "source": [
    "#### What is a UNIQUE key?\n",
    "- This is a key that uniquely identifies a single row in a table.\n",
    "- Multiple values are allowed"
   ]
  },
  {
   "cell_type": "markdown",
   "id": "atomic-wrapping",
   "metadata": {},
   "source": [
    "#### What is a FOREIGN key?\n",
    "- This enforces a link between data in two tables\n",
    "- A FOREIGN key in a child table references the PRIMARY KEY in a parent table\n",
    "- The table containing the FOREIGN KEY is called the child table, whilst that with the PRIMARY KEY is the parent table\n",
    "- The FOREIGN KEY constraint is used to prevent actions that would destroy links between tables, whilst also preventing invalid data from being inserted into the FOREIGN KEY column"
   ]
  },
  {
   "cell_type": "markdown",
   "id": "innocent-wrapping",
   "metadata": {},
   "source": [
    "#### What's the difference between a PRIMARY KEY and a UNIQUE KEY?\n",
    "- Both can uniquely idenitfy a row in a table\n",
    "- UNIQUE KEY can be null, and only one null values in a table\n",
    "- PRIMARY KEY cannot be null\n",
    "- PRIMARY KEY can be a combination of more than one unique key in the same table\n",
    "- There can only be one PRIMARY KEY per table\n",
    "- There can be more than one UNIQUE KEY per table"
   ]
  },
  {
   "cell_type": "markdown",
   "id": "forbidden-institute",
   "metadata": {},
   "source": [
    "### General"
   ]
  },
  {
   "cell_type": "markdown",
   "id": "statutory-timeline",
   "metadata": {},
   "source": [
    "- The `UPDATE` statement is used to update data in a database (not the **MODIFY** statement)\n",
    "- `DELETE` statement is used to delete data from a database\n",
    "- `INSERT INTO` statement is used to insert new data into a database\n",
    "- `DISTINCT` statement returns only unique values\n",
    "- `ORDER BY` statement sorts the result set\n",
    "- `BETWEEN` statement is used to select values within a range\n",
    "- `LIKE` operator is used to search for a specified pattern in a column\n",
    "- `CREATE TABLE TableName` statement creates a database table\n",
    "- `INSTR` statement returns the position of the first occurrence of a string in another string\n",
    "- `CONCAT SUBSTR INSTR` are all character manipulation functions\n",
    "- `NVL(expr1, expr2)` function converts a null value to an actual value\n",
    "- `ALTER TABLE` statement can add a new column, modify existing columns, and define default values for the new column. It **cannot** add a new row\n",
    "- `COUNT(exp)` returns the number of rows with non-null values for the exp\n",
    "- `COUNT(DISTINCT exp)` returns the number of unique, non-null values in the column\n",
    "- `DROP TABLE` statement will delete a table\n",
    "- `CONSTRAINTS` can be created at the same time as the table is created, or after the table is created. The constraints are stored in the data dictionary\n",
    "- The `MERGE` statement allows simultaneous (conditional) update, or insertion of data into a table simultaneously.\n",
    "- `DELETE` statement can be used to remove existing rows from a table\n",
    "\n",
    "Examples\n",
    "- Select all records from the table `Persons` where the value of column 'FirstName' starts with 'a':\n",
    "    - `SELECT * FROM Persons WHERE FirstName LIKE 'a%'`\n",
    "- Select all records from the table `Persons` where the value of column 'LastName' alphabetically lies between (and includes) 'Hansen' and 'Pettersen':\n",
    "    - `SELECT * FROM Persons WHERE LastName BETWEEN 'Hansen' AND 'Pettersen'`\n",
    "- Select all records from the table `Persons` sorted by descending 'FirstName'\n",
    "    - `SELECT * FROM Persons ORDER BY FirstName DESC`\n",
    "- Insert a new record into the 'Persons' table\n",
    "    - `INSERT INTO Persons (LastName) VALUES ('Olsen')`\n",
    "- Change 'Hansen' to 'Nielsen' in the 'LastName' column in the 'Persons' table    \n",
    "    - `UPDATE Persons SET LastName = 'Nielsen' WHERE LastName = 'Hansen'`\n",
    "- Delete the records where 'FirstName' is 'Peter' in the Persons table\n",
    "    - `DELETE FROM Persons WHERE FirstName = 'Peter'`\n",
    "- Return the number of records in the Persons table\n",
    "    - `SELECT COUNT(*) FROM Persons`\n",
    "- Return all unique values for Honours_Subject from the table:\n",
    "    - `SELECT DISTINCT FROM table`"
   ]
  },
  {
   "cell_type": "code",
   "execution_count": null,
   "id": "received-clear",
   "metadata": {},
   "outputs": [],
   "source": []
  },
  {
   "cell_type": "code",
   "execution_count": null,
   "id": "arbitrary-tours",
   "metadata": {},
   "outputs": [],
   "source": []
  },
  {
   "cell_type": "code",
   "execution_count": null,
   "id": "equivalent-toolbox",
   "metadata": {},
   "outputs": [],
   "source": []
  },
  {
   "cell_type": "code",
   "execution_count": null,
   "id": "oriented-cleveland",
   "metadata": {},
   "outputs": [],
   "source": []
  }
 ],
 "metadata": {
  "kernelspec": {
   "display_name": "Python 3",
   "language": "python",
   "name": "python3"
  },
  "language_info": {
   "codemirror_mode": {
    "name": "ipython",
    "version": 3
   },
   "file_extension": ".py",
   "mimetype": "text/x-python",
   "name": "python",
   "nbconvert_exporter": "python",
   "pygments_lexer": "ipython3",
   "version": "3.7.9"
  },
  "toc": {
   "base_numbering": 1,
   "nav_menu": {},
   "number_sections": false,
   "sideBar": true,
   "skip_h1_title": false,
   "title_cell": "Table of Contents",
   "title_sidebar": "Contents",
   "toc_cell": true,
   "toc_position": {},
   "toc_section_display": true,
   "toc_window_display": false
  },
  "varInspector": {
   "cols": {
    "lenName": 16,
    "lenType": 16,
    "lenVar": 40
   },
   "kernels_config": {
    "python": {
     "delete_cmd_postfix": "",
     "delete_cmd_prefix": "del ",
     "library": "var_list.py",
     "varRefreshCmd": "print(var_dic_list())"
    },
    "r": {
     "delete_cmd_postfix": ") ",
     "delete_cmd_prefix": "rm(",
     "library": "var_list.r",
     "varRefreshCmd": "cat(var_dic_list()) "
    }
   },
   "types_to_exclude": [
    "module",
    "function",
    "builtin_function_or_method",
    "instance",
    "_Feature"
   ],
   "window_display": false
  }
 },
 "nbformat": 4,
 "nbformat_minor": 5
}
