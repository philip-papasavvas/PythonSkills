{
 "cells": [
  {
   "cell_type": "markdown",
   "metadata": {},
   "source": [
    "## Auto-regression"
   ]
  },
  {
   "cell_type": "markdown",
   "metadata": {},
   "source": [
    "An auto-regressive, **AR(1)**, process is one that is not always stationary and may contain a unit root. \n",
    "\n",
    "For an AR process to be stationary, $ |\\rho| < 1 $: \n",
    "\n",
    "\\begin{align}\n",
    "    X_{t} &= X_{t-1} + \\epsilon_{t}  \\\\\n",
    "            &= X_{t-2} + \\epsilon_{t-1} + \\epsilon_{t} \\\\\n",
    "            &= X_{0} + \\sum_{i=0}^{t-1} \\epsilon_{t-i} \n",
    "\\end{align}\n",
    "for $ \\epsilon_{t} \\sim iid(0,1) $ where $ X_{0}$ is a constant.\n",
    "\n",
    "Further attributes are as follows:\n",
    "\n",
    "\\begin{align}\n",
    "            E(X_{t}) &=  E(X_{0}) + E \\sum_{i=0}^{t-1} \\epsilon_{t-i} \\\\\n",
    "                    &= E(X_{0})          \n",
    "\\end{align}\n",
    "             \n",
    "since $ \\epsilon_{t} \\sim iid(0,1) $ and $ \\therefore  E(X_{t}) = 0 $, $ Var(\\epsilon_{t}) = \\sigma^2 $, \n",
    "so the random noise has zero mean."
   ]
  },
  {
   "cell_type": "markdown",
   "metadata": {},
   "source": [
    "\\begin{align}\n",
    "    Var(X_{t}) &=  \\sum_{i=0}^{t-1} Var ( \\epsilon_{t-i}) \\\\\n",
    "                 &=  t \\sigma^2   \\\\\n",
    "                 &= f(t)\n",
    "\\end{align}\n",
    "since $ Var(\\epsilon_{t}) = \\sigma^2$. Therefore, the variance is a function of time, so it is non-stationary.\n",
    "\\\\\n",
    "Therefore a random walk is a non-stationary time series, it is a function of time. \n",
    "There is no covarance ($\\epsilon_{t}$ terms) since $\\epsilon_{t}$ are \n",
    "independent of one another.    "
   ]
  },
  {
   "cell_type": "markdown",
   "metadata": {},
   "source": [
    "\\begin{align}\n",
    "    Cov(X_{t}, X_{t+h}) &= Cov(X_{t}, X_{t} + \\sum_{i=0}^{h-1} \\epsilon_{t+h-i} ) \\\\\n",
    "            &= Cov(X_{t}, X_{t})\n",
    "            &= Var(X_{t})\n",
    "\\end{align}\n",
    "given $X_{t+h} = X_{t} + \\sum_{i=0}^{h-1} \\epsilon_{t+h-i}$, and since $\\epsilon_{t}$ are independent, then $Cov(X_{t}, \\epsilon_{t_{k}}) = 0$."
   ]
  },
  {
   "cell_type": "markdown",
   "metadata": {},
   "source": [
    "Therefore, a random walk is non-stationary, since the variance \n",
    "increases with time, and the covariance also increases with time."
   ]
  }
 ],
 "metadata": {
  "kernelspec": {
   "display_name": "Python 3",
   "language": "python",
   "name": "python3"
  },
  "language_info": {
   "codemirror_mode": {
    "name": "ipython",
    "version": 3
   },
   "file_extension": ".py",
   "mimetype": "text/x-python",
   "name": "python",
   "nbconvert_exporter": "python",
   "pygments_lexer": "ipython3",
   "version": "3.7.3"
  }
 },
 "nbformat": 4,
 "nbformat_minor": 2
}
