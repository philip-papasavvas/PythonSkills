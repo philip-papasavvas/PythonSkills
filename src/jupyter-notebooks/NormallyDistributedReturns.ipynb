{
 "cells": [
  {
   "cell_type": "markdown",
   "metadata": {
    "toc": true
   },
   "source": [
    "<h1>Table of Contents<span class=\"tocSkip\"></span></h1>\n",
    "<div class=\"toc\"><ul class=\"toc-item\"><li><span><a href=\"#Are-Returns-Normally-Distributed?\" data-toc-modified-id=\"Are-Returns-Normally-Distributed?-1\">Are Returns Normally Distributed?</a></span><ul class=\"toc-item\"><li><span><a href=\"#Testing-the-Skewness\" data-toc-modified-id=\"Testing-the-Skewness-1.1\">Testing the Skewness</a></span></li><li><span><a href=\"#Test-the-Kurtosis\" data-toc-modified-id=\"Test-the-Kurtosis-1.2\">Test the Kurtosis</a></span></li></ul></li></ul></div>"
   ]
  },
  {
   "cell_type": "markdown",
   "metadata": {},
   "source": [
    "# Are Returns Normally Distributed?"
   ]
  },
  {
   "cell_type": "markdown",
   "metadata": {},
   "source": [
    "Often when given a time series (which has some drift), it is important to see whether the distribution of returns is indeed normally distributed, and this can be done by looking at the **skewness** and **kurtosis** of the data.\n",
    "\n",
    "**Skewness** is the measure of the asymmetry of the porbability distribution of a real valued random variable about its mean.\n",
    "**Kurtosis** is the measured of the *tailedness* of a probability distribution of a real valued random variable.\n",
    "\n",
    "Under the normality assumption, both skewness, $s(x)$, and kurtosis, $k(x) - 3$, are distributed asymptotically as normal with mean of zero, and variances of $6/T$ and $24/T$, respectively."
   ]
  },
  {
   "cell_type": "markdown",
   "metadata": {},
   "source": [
    "Therefore, in order to test this assumption, we will look at the time series of data, assuming it has a drift, we will remove this by looking at the returns, and to tidy up the maths, look at the log return series, $ \\{r_1, ... , r_n\\} $.\n",
    "\n"
   ]
  },
  {
   "cell_type": "markdown",
   "metadata": {},
   "source": [
    "## Testing the Skewness"
   ]
  },
  {
   "cell_type": "markdown",
   "metadata": {},
   "source": [
    "In order to test the skewness, consider the null hypothesis,\n",
    "$H_0: s(r) = 0$, versus the alternate hypothesis, $H_1: s(r) \\neq 0$.\n",
    "\n",
    "The t-ratio statistic of the sample skewness is $t = \\hat{s}(r)/\\sqrt{6/T}$. Where you reject null hypothesis, $H_0$, at significance level alpha, $\\alpha$, if $|t| > z_{\\alpha\\2}$ where $z_{\\alpha \\2}$ is the upper $100(\\alpha/2)-th$ quantile of a standard normal distribution."
   ]
  },
  {
   "cell_type": "markdown",
   "metadata": {},
   "source": [
    "(Alternatively, you could compute the p-value of the test statistic $t$ and reject the null hypothesis, $H_0 \\iff p-value < \\alpha$."
   ]
  },
  {
   "cell_type": "markdown",
   "metadata": {},
   "source": [
    "## Test the Kurtosis"
   ]
  },
  {
   "cell_type": "markdown",
   "metadata": {},
   "source": [
    "One could go about testing the excess kurtosis of the time series by using the null hypothesis, $H_0 : k(r) -3 = 0$, versus the alternative test statistic, which is $t = (k(r) -3)/\\sqrt{24/T}.$"
   ]
  }
 ],
 "metadata": {
  "kernelspec": {
   "display_name": "Python 3",
   "language": "python",
   "name": "python3"
  },
  "language_info": {
   "codemirror_mode": {
    "name": "ipython",
    "version": 3
   },
   "file_extension": ".py",
   "mimetype": "text/x-python",
   "name": "python",
   "nbconvert_exporter": "python",
   "pygments_lexer": "ipython3",
   "version": "3.7.3"
  },
  "toc": {
   "base_numbering": 1,
   "nav_menu": {},
   "number_sections": false,
   "sideBar": true,
   "skip_h1_title": false,
   "title_cell": "Table of Contents",
   "title_sidebar": "Contents",
   "toc_cell": true,
   "toc_position": {},
   "toc_section_display": true,
   "toc_window_display": true
  },
  "varInspector": {
   "cols": {
    "lenName": 16,
    "lenType": 16,
    "lenVar": 40
   },
   "kernels_config": {
    "python": {
     "delete_cmd_postfix": "",
     "delete_cmd_prefix": "del ",
     "library": "var_list.py",
     "varRefreshCmd": "print(var_dic_list())"
    },
    "r": {
     "delete_cmd_postfix": ") ",
     "delete_cmd_prefix": "rm(",
     "library": "var_list.r",
     "varRefreshCmd": "cat(var_dic_list()) "
    }
   },
   "types_to_exclude": [
    "module",
    "function",
    "builtin_function_or_method",
    "instance",
    "_Feature"
   ],
   "window_display": false
  }
 },
 "nbformat": 4,
 "nbformat_minor": 2
}
